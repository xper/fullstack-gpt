{
  "cells": [
    {
      "cell_type": "code",
      "execution_count": 24,
      "metadata": {},
      "outputs": [],
      "source": [
        "import subprocess\n",
        "from pydub import AudioSegment\n",
        "import math\n",
        "\n",
        "\n",
        "def extract_audio_from_video(video_path, audio_path):\n",
        "    command = [\n",
        "        \"ffmpeg\",\n",
        "        \"-i\",\n",
        "        video_path,\n",
        "        \"-vn\",\n",
        "        audio_path,\n",
        "    ]\n",
        "    subprocess.run(command)\n",
        "\n",
        "\n",
        "def cut_audio_in_chunks(audio_path, chunk_size, chunks_folder):\n",
        "    track = AudioSegment.from_mp3(audio_path)\n",
        "    overlap_size = 10 * 1000\n",
        "    chunk_len = chunk_size * 60 * 1000 - overlap_size\n",
        "    chunks = math.ceil(len(track) / chunk_len)\n",
        "    for i in range(chunks):\n",
        "        start_time = i * chunk_len\n",
        "        end_time = (i + 1) * chunk_len + overlap_size\n",
        "\n",
        "        chunk = track[start_time:end_time]\n",
        "\n",
        "        chunk.export(f\"./{chunks_folder}/chunk_{i:03d}.mp3\", format=\"mp3\")"
      ]
    },
    {
      "cell_type": "code",
      "execution_count": 25,
      "metadata": {},
      "outputs": [],
      "source": [
        "from typing import final\n",
        "import openai\n",
        "import glob\n",
        "\n",
        "\n",
        "def transcribe_chunks(chunk_folder, destination):\n",
        "    files = glob.glob(f\"{chunk_folder}/*.mp3\")\n",
        "    final_transcript = \"\"\n",
        "    for file in files:\n",
        "        with open(file, \"rb\") as audio_file:\n",
        "            transcript = openai.Audio.transcribe(\n",
        "                \"whisper-1\",\n",
        "                audio_file,\n",
        "            )\n",
        "            final_transcript += transcript[\"text\"]\n",
        "    with open(destination, \"w\") as file:\n",
        "        file.write(final_transcript)"
      ]
    }
  ],
  "metadata": {
    "kernelspec": {
      "display_name": "env",
      "language": "python",
      "name": "python3"
    },
    "language_info": {
      "codemirror_mode": {
        "name": "ipython",
        "version": 3
      },
      "file_extension": ".py",
      "mimetype": "text/x-python",
      "name": "python",
      "nbconvert_exporter": "python",
      "pygments_lexer": "ipython3",
      "version": "3.11.6"
    }
  },
  "nbformat": 4,
  "nbformat_minor": 2
}
